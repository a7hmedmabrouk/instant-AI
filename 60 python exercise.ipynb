{
 "cells": [
  {
   "cell_type": "markdown",
   "id": "759d04ba",
   "metadata": {},
   "source": [
    "**1-Write a Python program to calculate the length of a string using 2 ways"
   ]
  },
  {
   "cell_type": "code",
   "execution_count": 1,
   "id": "7a2dfa32",
   "metadata": {},
   "outputs": [
    {
     "data": {
      "text/plain": [
       "5"
      ]
     },
     "execution_count": 1,
     "metadata": {},
     "output_type": "execute_result"
    }
   ],
   "source": [
    "len(\"Ahmed\")"
   ]
  },
  {
   "cell_type": "code",
   "execution_count": 2,
   "id": "55d0f9c6-a0bd-4b26-b5e7-9cd4ce32cbb4",
   "metadata": {},
   "outputs": [
    {
     "name": "stdout",
     "output_type": "stream",
     "text": [
      "5\n"
     ]
    }
   ],
   "source": [
    "x = \"Ahmed\"\n",
    "count = 0\n",
    "for i in range(0, len(x)):\n",
    "    count += 1 \n",
    "print(count)"
   ]
  },
  {
   "cell_type": "markdown",
   "id": "d7cc9da7",
   "metadata": {},
   "source": [
    "**2-Write a Python program to get a string made of the first 2 and last 2 characters of a given string. If the string length is less than 2, return the empty string instead (\"##Sample String : 'w3resource'\n",
    "Expected Result : 'w3ce'\n",
    "##Sample String : 'w3'\n",
    "Expected Result : 'w3w3'\n",
    "##Sample String : ' w'\n",
    "Expected Result : Empty String)"
   ]
  },
  {
   "cell_type": "code",
   "execution_count": 3,
   "id": "dafa9dd8",
   "metadata": {},
   "outputs": [
    {
     "name": "stdin",
     "output_type": "stream",
     "text": [
      "Enter the string you want:  ahmed\n"
     ]
    },
    {
     "name": "stdout",
     "output_type": "stream",
     "text": [
      "ahed\n"
     ]
    }
   ],
   "source": [
    "x = input(\"Enter the string you want: \")\n",
    "\n",
    "if len(x) < 2:\n",
    "    print(\"Empty String\")\n",
    "else:\n",
    "    print(x[:2] + x[-2:])"
   ]
  },
  {
   "cell_type": "markdown",
   "id": "1534f956",
   "metadata": {},
   "source": [
    "**3-Write a Python program to add 'ing' at the end of a given string (length should be at least 3). If the given string already ends with 'ing', add 'ly' instead. If the string length of the given string is less than 3, leave it unchanged. (Sample String : 'abc'\n",
    "Expected Result : 'abcing')"
   ]
  },
  {
   "cell_type": "code",
   "execution_count": 4,
   "id": "7ff8cec4",
   "metadata": {},
   "outputs": [
    {
     "name": "stdin",
     "output_type": "stream",
     "text": [
      "Enter the string you want:  ahmed\n"
     ]
    },
    {
     "name": "stdout",
     "output_type": "stream",
     "text": [
      "ahmeding\n"
     ]
    }
   ],
   "source": [
    "x = input(\"Enter the string you want: \")\n",
    "\n",
    "if len(x) < 3:\n",
    "    print(x)\n",
    "else:\n",
    "    if x[-3:] == \"ing\":\n",
    "        print(x + \"ly\")\n",
    "    else:\n",
    "        print(x + \"ing\")"
   ]
  },
  {
   "cell_type": "markdown",
   "id": "1c0a6627",
   "metadata": {},
   "source": [
    "**4-Write a Python function that takes a list of words and return the longest word and the length of the longest one\n",
    "(Longest word: Exercises\n",
    "Length of the longest word: 9)"
   ]
  },
  {
   "cell_type": "code",
   "execution_count": 1,
   "id": "397341d9",
   "metadata": {},
   "outputs": [
    {
     "name": "stdin",
     "output_type": "stream",
     "text": [
      "Enter the number of words:  5\n",
      "Enter word 1:  ahmed\n",
      "Enter word 2:  ambrouk\n",
      "Enter word 3:  ali\n",
      "Enter word 4:  moahmed\n",
      "Enter word 5:  omar\n"
     ]
    },
    {
     "name": "stdout",
     "output_type": "stream",
     "text": [
      "The longest word is 'ambrouk' with length 7\n"
     ]
    }
   ],
   "source": [
    "x = int(input(\"Enter the number of words: \"))\n",
    "words = []\n",
    "\n",
    "def LongestWord():\n",
    "    for i in range(x):\n",
    "        word = input(f\"Enter word {i + 1}: \")\n",
    "        words.append(word)\n",
    "\n",
    "    longest_word = \"\"\n",
    "    max_length = 0\n",
    "    \n",
    "    for word in words:\n",
    "        if len(word) > max_length:\n",
    "            longest_word = word\n",
    "            max_length = len(word)\n",
    "    \n",
    "    if longest_word:\n",
    "        print(f\"The longest word is '{longest_word}' with length {max_length}\")\n",
    "    else:\n",
    "        print(\"No words were entered.\")\n",
    "\n",
    "LongestWord()"
   ]
  },
  {
   "cell_type": "markdown",
   "id": "53a03a6a",
   "metadata": {},
   "source": [
    "**5-Write a Python program to change a given string to a newly string where the first and last chars have been exchanged using 2 ways (Sample String:abca  Expected Result:ebce)"
   ]
  },
  {
   "cell_type": "code",
   "execution_count": null,
   "id": "285788b4",
   "metadata": {},
   "outputs": [],
   "source": [
    "x = input(\"Enter the word: \") \n",
    "\n",
    "x = list(x)  \n",
    "\n",
    "if len(x) > 0:\n",
    "    x[0] = \"e\"  \n",
    "    x[len(x) - 1] = \"e\"  \n",
    "\n",
    "x = ''.join(x)\n",
    "\n",
    "print(x)"
   ]
  },
  {
   "cell_type": "code",
   "execution_count": null,
   "id": "c3be2e8a-57db-455c-901e-9e249a26a2c4",
   "metadata": {},
   "outputs": [],
   "source": [
    "x = input(\"Enter the word: \") \n",
    "\n",
    "if len(x) <= 1:\n",
    "    print(x)\n",
    "else:\n",
    "    fChar = x[0]\n",
    "    lChar = x[-1]\n",
    "    mChars = x[1:-1]\n",
    "    fChar = \"e\" \n",
    "    lChar = \"e\"\n",
    "    print(f\"{fChar}{mChars}{lChar}\")\n"
   ]
  },
  {
   "cell_type": "markdown",
   "id": "25f89808",
   "metadata": {},
   "source": [
    "**6-Write a Python program to remove characters that have odd index values in a given string (Sample String:abca Expected Result:ac)"
   ]
  },
  {
   "cell_type": "code",
   "execution_count": null,
   "id": "05959bd7",
   "metadata": {},
   "outputs": [],
   "source": [
    "x = input(\"Enter the word: \")\n",
    "\n",
    "result = \"\"\n",
    "for i in range(0, len(x), 2):\n",
    "    result += x[i]\n",
    "\n",
    "print(result)"
   ]
  },
  {
   "cell_type": "markdown",
   "id": "eb16e898",
   "metadata": {},
   "source": [
    "**7-Write a Python program to count the occurrences of each word in a given sentence (Sample String:amr and ahmed are frindes but amr is the tallest Expected Result:2)"
   ]
  },
  {
   "cell_type": "code",
   "execution_count": null,
   "id": "01ce6cf5",
   "metadata": {},
   "outputs": [],
   "source": [
    "x = \"amr and ahmed are friends but amr is the tallest\" \n",
    "\n",
    "word = \"amr\"\n",
    "count = 0\n",
    "\n",
    "words = x.split() \n",
    "for w in words:\n",
    "    if w == word:  \n",
    "        count += 1\n",
    "\n",
    "print(f\"the word amr count is: {count}\")\n"
   ]
  },
  {
   "cell_type": "markdown",
   "id": "4e8125f1",
   "metadata": {},
   "source": [
    "**8-Write a Python script that takes input from the user and displays that input back in upper and lower cases"
   ]
  },
  {
   "cell_type": "code",
   "execution_count": null,
   "id": "66c8f778",
   "metadata": {},
   "outputs": [],
   "source": [
    "x = input(\"Enter the word: \")\n",
    "\n",
    "print(x.upper())\n",
    "print(x.lower())"
   ]
  },
  {
   "cell_type": "markdown",
   "id": "fcd68aa1",
   "metadata": {},
   "source": [
    "**9-Write a Python function to reverse a string if its length is a multiple of 4"
   ]
  },
  {
   "cell_type": "code",
   "execution_count": null,
   "id": "0671a931",
   "metadata": {},
   "outputs": [],
   "source": [
    "x = input(\"Enter the word: \")\n",
    "\n",
    "def ReverseWord(word):\n",
    "    if len(word) % 4 == 0:\n",
    "        reversed_word = \"\"\n",
    "        for i in range(len(word) - 1, -1, -1):\n",
    "            reversed_word += word[i]\n",
    "        return reversed_word\n",
    "\n",
    "reversed_x = ReverseWord(x)\n",
    "print(reversed_x)\n"
   ]
  },
  {
   "cell_type": "markdown",
   "id": "b577c68d",
   "metadata": {},
   "source": [
    "**10- Write a Python program to remove a newline in Python"
   ]
  },
  {
   "cell_type": "code",
   "execution_count": null,
   "id": "e0c6525a",
   "metadata": {},
   "outputs": [],
   "source": [
    "textWith = \"Hello,\\nWorld!\\n\"\n",
    "\n",
    "textWithout = textWith.replace(\"\\n\", \"\")\n",
    "\n",
    "print(\"String with newline:\", repr(textWith))\n",
    "print(\"String without newline:\", repr(textWithout))\n"
   ]
  },
  {
   "cell_type": "markdown",
   "id": "80db5ae0",
   "metadata": {},
   "source": [
    "**11-Write a Python program to check whether a string starts with specified characters"
   ]
  },
  {
   "cell_type": "code",
   "execution_count": null,
   "id": "0cc4e03e",
   "metadata": {},
   "outputs": [],
   "source": [
    "x = input(\"Enter the word: \")\n",
    "\n",
    "if x[0] == \"a\":\n",
    "    print(\"the word start with (a)\")\n",
    "else:\n",
    "    print(\"Wrong\")"
   ]
  },
  {
   "cell_type": "markdown",
   "id": "593a68db",
   "metadata": {},
   "source": [
    "**12- Write a Python program to add prefix text to all of the lines in a string"
   ]
  },
  {
   "cell_type": "code",
   "execution_count": null,
   "id": "d2e46ada",
   "metadata": {},
   "outputs": [],
   "source": []
  },
  {
   "cell_type": "markdown",
   "id": "86fa1543",
   "metadata": {},
   "source": [
    "**13-Write a Python program to print the following numbers up to 2 decimal places"
   ]
  },
  {
   "cell_type": "code",
   "execution_count": null,
   "id": "cd4a9d89",
   "metadata": {},
   "outputs": [],
   "source": [
    "def PrintNumbers(numbers):\n",
    "    for number in numbers:\n",
    "        print(\"{:.2f}\".format(number)) \n",
    "\n",
    "numbers = [5.4236, 1.246656459, .322655, .94975]\n",
    "PrintNumbers(numbers)"
   ]
  },
  {
   "cell_type": "markdown",
   "id": "452c0ab0",
   "metadata": {},
   "source": [
    "**14-Write a Python program to print the following numbers up to 2 decimal places with a sign"
   ]
  },
  {
   "cell_type": "code",
   "execution_count": null,
   "id": "73e82479",
   "metadata": {},
   "outputs": [],
   "source": [
    "def PrintNumbers(numbers):\n",
    "    for number in numbers:\n",
    "        print(\"{:.2f}\".format(number)) \n",
    "\n",
    "numbers = [+5.4236, -1.246656459, .322655, -.94975]\n",
    "PrintNumbers(numbers)"
   ]
  },
  {
   "cell_type": "markdown",
   "id": "32b1811a",
   "metadata": {},
   "source": [
    "**15-Write a Python program to display a number with a comma separator"
   ]
  },
  {
   "cell_type": "code",
   "execution_count": null,
   "id": "f30fc0b6",
   "metadata": {},
   "outputs": [],
   "source": [
    "def DisplayNumber(number):\n",
    "    formattednumber = f\"{number:,}\" \n",
    "    print(formattednumber)\n",
    "\n",
    "# Example usage\n",
    "number = 1234567890\n",
    "DisplayNumber(number)"
   ]
  },
  {
   "cell_type": "markdown",
   "id": "0477f487",
   "metadata": {},
   "source": [
    "**16-Write a Python program to reverse a string using 2 ways"
   ]
  },
  {
   "cell_type": "code",
   "execution_count": null,
   "id": "aa8beec8",
   "metadata": {},
   "outputs": [],
   "source": [
    "def ReverseString(x):\n",
    "    return x[::-1]\n",
    "\n",
    "# Example usage\n",
    "originalstring = \"hello\"\n",
    "reversedstring = ReverseString(originalstring)\n",
    "print(\"Reversed string using slicing:\", reversedstring)\n"
   ]
  },
  {
   "cell_type": "code",
   "execution_count": null,
   "id": "1dc73a3f-e9a1-48ba-831c-fdd3b4de2105",
   "metadata": {},
   "outputs": [],
   "source": [
    "def ReverseString(x):\n",
    "    reversedstring = \"\"\n",
    "    for char in x:\n",
    "        reversedstring = char + reversedstring\n",
    "    return reversedstring\n",
    "\n",
    "# Example usage\n",
    "originalstring = \"hello\"\n",
    "reversedstring = ReverseString(originalstring)\n",
    "print(\"Reversed string using loop:\", reversedstring)"
   ]
  },
  {
   "cell_type": "markdown",
   "id": "5afc3166",
   "metadata": {},
   "source": [
    " **17-Write a Python program to count repeated characters in a string (hint:use dictionary)"
   ]
  },
  {
   "cell_type": "code",
   "execution_count": null,
   "id": "515a469c",
   "metadata": {},
   "outputs": [],
   "source": [
    "def CountRepeated(x):\n",
    "    charcount = {} \n",
    "    for char in x:\n",
    "        if char in charcount:\n",
    "            charcount[char] += 1\n",
    "        else:\n",
    "            charcount[char] = 1\n",
    "    return charcount\n",
    "\n",
    "x = input(\"Enter the word: \")\n",
    "\n",
    "print(f\"Repeated characters counts: {CountRepeated(x)}\")"
   ]
  },
  {
   "cell_type": "markdown",
   "id": "ae14e4e5",
   "metadata": {},
   "source": [
    "**18-Write a Python program to find the first non-repeating character in a given string"
   ]
  },
  {
   "cell_type": "code",
   "execution_count": null,
   "id": "d73778e5",
   "metadata": {},
   "outputs": [],
   "source": [
    "def CountRepeated(x):\n",
    "    charcount = {} \n",
    "    for char in x:\n",
    "        if char in charcount:\n",
    "            charcount[char] += 1\n",
    "        else:\n",
    "            charcount[char] = 1\n",
    "\n",
    "    for char in x:\n",
    "        if charcount[char] == 1:\n",
    "            return char\n",
    "\n",
    "\n",
    "x = input(\"Enter the word: \")\n",
    "\n",
    "print(f\"first non Repeated character: {CountRepeated(x)}\")"
   ]
  },
  {
   "cell_type": "markdown",
   "id": "3adf5669",
   "metadata": {},
   "source": [
    "**19-Write a Python program to remove spaces from a given string"
   ]
  },
  {
   "cell_type": "code",
   "execution_count": null,
   "id": "b4f22602",
   "metadata": {},
   "outputs": [],
   "source": [
    "x = \"Ahmed mabrouk khiralla is a cs student\"\n",
    "\n",
    "print(x.replace(\" \", \"\"))"
   ]
  },
  {
   "cell_type": "markdown",
   "id": "734de60c",
   "metadata": {},
   "source": [
    "**20-Write a Python program to count the number of non-empty substrings of a given string"
   ]
  },
  {
   "cell_type": "code",
   "execution_count": null,
   "id": "ef3f2274",
   "metadata": {},
   "outputs": [],
   "source": []
  },
  {
   "cell_type": "markdown",
   "id": "509998e2",
   "metadata": {},
   "source": [
    "**21-write a Python program to swap first and last element of any list."
   ]
  },
  {
   "cell_type": "code",
   "execution_count": null,
   "id": "68692d7f",
   "metadata": {},
   "outputs": [],
   "source": [
    "x = [1, 2, 3, 4, 5, 6, 7, 8, 9]\n",
    "\n",
    "x[0], x[-1] = x[-1], x[0]\n",
    "\n",
    "print(x)"
   ]
  },
  {
   "cell_type": "markdown",
   "id": "959e0837",
   "metadata": {},
   "source": [
    "**22-Given a list in Python and provided the positions of the elements, write a program to swap the two elements in the list. (Input : List = [23, 65, 19, 90], pos1 = 1, pos2 = 3\n",
    "Output : [19, 65, 23, 90])"
   ]
  },
  {
   "cell_type": "code",
   "execution_count": null,
   "id": "225d8c6d",
   "metadata": {},
   "outputs": [],
   "source": [
    "x = [23, 65, 19, 90]\n",
    "\n",
    "x[0], x[2] = x[2], x[0]\n",
    "\n",
    "print(x)"
   ]
  },
  {
   "cell_type": "markdown",
   "id": "66fc6682",
   "metadata": {},
   "source": [
    "**23- search for the all ways to know the length of the list"
   ]
  },
  {
   "cell_type": "code",
   "execution_count": null,
   "id": "3d10fb01-57e0-4351-836c-f182cf82d58c",
   "metadata": {},
   "outputs": [],
   "source": [
    "my_list = [1, 2, 3, 4, 5]\n",
    "length = len(my_list)\n",
    "print(\"Length of the list:\", length)"
   ]
  },
  {
   "cell_type": "code",
   "execution_count": null,
   "id": "e98b28be-185f-4ce3-a9ed-8e34dc4c4ea9",
   "metadata": {},
   "outputs": [],
   "source": [
    "my_list = [1, 2, 3, 4, 5]\n",
    "count = 0\n",
    "for _ in my_list:\n",
    "    count += 1\n",
    "print(\"Length of the list:\", count)"
   ]
  },
  {
   "cell_type": "code",
   "execution_count": null,
   "id": "5909f25f-f6f3-46ed-956d-c509728d5b95",
   "metadata": {},
   "outputs": [],
   "source": [
    "my_list = [1, 2, 3, 4, 5]\n",
    "length = my_list.count(None)\n",
    "print(\"Length of the list:\", length)"
   ]
  },
  {
   "cell_type": "code",
   "execution_count": null,
   "id": "07abb121-5b82-458e-863d-7cf0032b74e7",
   "metadata": {},
   "outputs": [],
   "source": [
    "my_list = [1, 2, 3, 4, 5]\n",
    "length = sum(1 for _ in enumerate(my_list))\n",
    "print(\"Length of the list:\", length)"
   ]
  },
  {
   "cell_type": "code",
   "execution_count": null,
   "id": "63ff8b43",
   "metadata": {},
   "outputs": [],
   "source": [
    "##24-write a Python code to find the Maximum number of list of numbers."
   ]
  },
  {
   "cell_type": "code",
   "execution_count": null,
   "id": "15f342de",
   "metadata": {},
   "outputs": [],
   "source": [
    "x = [1, 5, 98, 45, 62, 32, 70]\n",
    "\n",
    "maxnum = 0\n",
    "\n",
    "for i in range(0, len(x)):\n",
    "    if x[i] > maxnum:\n",
    "        maxnum = x[i]\n",
    "\n",
    "print(maxnum)"
   ]
  },
  {
   "cell_type": "code",
   "execution_count": null,
   "id": "1a89b9d3",
   "metadata": {},
   "outputs": [],
   "source": [
    "**25-write a Python code to find the Minimum number of list of numbers."
   ]
  },
  {
   "cell_type": "code",
   "execution_count": null,
   "id": "21f8cbd6",
   "metadata": {},
   "outputs": [],
   "source": [
    "x = [1, 5, 98, 45, 62, 32, 70]\n",
    "\n",
    "minnum = x[0]\n",
    "\n",
    "for i in range(0, len(x)):\n",
    "    if x[i] < minnum:\n",
    "        minnum = x[i]\n",
    "\n",
    "print(minnum)"
   ]
  },
  {
   "cell_type": "markdown",
   "id": "96822d96",
   "metadata": {},
   "source": [
    "**26-search for if an elem is existing in list"
   ]
  },
  {
   "cell_type": "code",
   "execution_count": null,
   "id": "51ca5c9a",
   "metadata": {},
   "outputs": [],
   "source": []
  },
  {
   "cell_type": "markdown",
   "id": "d9557da7",
   "metadata": {},
   "source": [
    "**27- clear python list using different ways"
   ]
  },
  {
   "cell_type": "code",
   "execution_count": null,
   "id": "b69858a3",
   "metadata": {},
   "outputs": [],
   "source": [
    "my_list = [1, 2, 3, 4, 5]\n",
    "my_list.clear()\n",
    "print(my_list)"
   ]
  },
  {
   "cell_type": "code",
   "execution_count": null,
   "id": "596b4499-e538-4976-9ed5-959f08aaca70",
   "metadata": {},
   "outputs": [],
   "source": [
    "my_list = [1, 2, 3, 4, 5]\n",
    "my_list = []\n",
    "print(my_list)"
   ]
  },
  {
   "cell_type": "code",
   "execution_count": null,
   "id": "a3d115d3-1602-426f-9476-30bc01f8de22",
   "metadata": {},
   "outputs": [],
   "source": [
    "my_list = [1, 2, 3, 4, 5]\n",
    "my_list[:] = []\n",
    "print(my_list)"
   ]
  },
  {
   "cell_type": "code",
   "execution_count": null,
   "id": "d0724d10-0eae-4e3b-a6b8-88f4274aaf14",
   "metadata": {},
   "outputs": [],
   "source": [
    "my_list = [1, 2, 3, 4, 5]\n",
    "del my_list[:]\n",
    "print(my_list) "
   ]
  },
  {
   "cell_type": "markdown",
   "id": "52160e88",
   "metadata": {},
   "source": [
    "**28-remove duplicated elements from a list"
   ]
  },
  {
   "cell_type": "code",
   "execution_count": null,
   "id": "5e362228",
   "metadata": {},
   "outputs": [],
   "source": [
    "x = [1, 2, 6, 2, 6, 1, 8, 9, 1, 6, 2, 1]\n",
    "\n",
    "newlist = list(set(x))\n",
    "\n",
    "print(newlist)"
   ]
  },
  {
   "cell_type": "markdown",
   "id": "282337f7",
   "metadata": {},
   "source": [
    "**29-Given list values and keys list, convert these values to key value pairs in form of list of dictionaries. (Input : test_list = [“Gfg”, 3, “is”, 8], key_list = [“name”, “id”]\n",
    "Output : [{‘name’: ‘Gfg’, ‘id’: 3}, {‘name’: ‘is’, ‘id’: 8}])"
   ]
  },
  {
   "cell_type": "code",
   "execution_count": null,
   "id": "4d4e2d28",
   "metadata": {},
   "outputs": [],
   "source": [
    "test_list = [\"Gfg\", 3, \"is\", 8, \"ahmed\", 6]\n",
    "key_list = [\"name\", \"id\"]\n",
    "\n",
    "result = []\n",
    "\n",
    "n = len(test_list)\n",
    "\n",
    "for i in range(0, n, 2):\n",
    "    result.append({key_list[0]: test_list[i], key_list[1]: test_list[i+1]})\n",
    "\n",
    "print(result)"
   ]
  },
  {
   "cell_type": "markdown",
   "id": "c26b6e9f",
   "metadata": {},
   "source": [
    "**30-write a python program to count unique values inside a list using different ways"
   ]
  },
  {
   "cell_type": "code",
   "execution_count": null,
   "id": "72132667",
   "metadata": {},
   "outputs": [],
   "source": [
    "x = [1, 2, 2, 3, 5, 6, 9, 2, 8]\n",
    "\n",
    "uniqvalue = 2\n",
    "\n",
    "count = 0\n",
    "\n",
    "for i in range(len(x)):\n",
    "    if uniqvalue == x[i]:\n",
    "        count += 1\n",
    "\n",
    "print(count)"
   ]
  },
  {
   "cell_type": "code",
   "execution_count": null,
   "id": "0d03cec5-b512-4915-90d9-17c9471b2e77",
   "metadata": {},
   "outputs": [],
   "source": [
    "x = [1, 2, 2, 3, 5, 6, 9, 2, 8]\n",
    "uniqvalue = 2\n",
    "\n",
    "count = x.count(uniqvalue)\n",
    "\n",
    "print(count)"
   ]
  },
  {
   "cell_type": "markdown",
   "id": "fed6677c",
   "metadata": {},
   "source": [
    "**31-write a python program Extract all elements with Frequency greater than K (Input : test_list = [4, 6, 4, 3, 3, 4, 3, 4, 3, 8], K = 3 \n",
    "Output : [4, 3] )"
   ]
  },
  {
   "cell_type": "code",
   "execution_count": null,
   "id": "d81f3f9d",
   "metadata": {},
   "outputs": [],
   "source": [
    "test_list = [4, 6, 4, 3, 3, 4, 3, 4, 3, 8] \n",
    "\n",
    "K = 3\n",
    "res = []\n",
    "\n",
    "for i in test_list:\n",
    "    if test_list.count(i) > 3 and i not in res:\n",
    "        res.append(i)\n",
    "\n",
    "print(res)"
   ]
  },
  {
   "cell_type": "code",
   "execution_count": null,
   "id": "adbef7eb-dc4a-4a45-95a2-5ecf1725a6e4",
   "metadata": {},
   "outputs": [],
   "source": [
    "test_list = [4, 6, 4, 3, 3, 4, 3, 4, 3, 8] \n",
    "K = 3\n",
    "res = []\n",
    "\n",
    "for i in range(len(test_list)):\n",
    "    count = 0 \n",
    "    for j in range(len(test_list)):\n",
    "        if test_list[i] == test_list[j]:\n",
    "            count += 1\n",
    "    if count >= K and test_list[i] not in res:\n",
    "        res.append(test_list[i])\n",
    "\n",
    "print(res)"
   ]
  },
  {
   "cell_type": "markdown",
   "id": "caca5224",
   "metadata": {},
   "source": [
    "**32-write a python program to find the Strongest Neighbour (Input: 1 2 2 3 4 5\n",
    "Output: 2 2 3 4 5)"
   ]
  },
  {
   "cell_type": "code",
   "execution_count": null,
   "id": "39fbd9b2",
   "metadata": {},
   "outputs": [],
   "source": []
  },
  {
   "cell_type": "markdown",
   "id": "a9fa8baf",
   "metadata": {},
   "source": [
    "**33-write a Python Program to print all Possible Combinations from the three Digits (Input: [1, 2, 3]\n",
    "Output:\n",
    "1 2 3 ##\n",
    "1 3 2 ##\n",
    "2 1 3 ##\n",
    "2 3 1 ##\n",
    "3 1 2 ##\n",
    "3 2 1)"
   ]
  },
  {
   "cell_type": "code",
   "execution_count": null,
   "id": "8c520a76",
   "metadata": {},
   "outputs": [],
   "source": [
    "def generate_permutations(arr, n, i=0):\n",
    "    if i == n:\n",
    "        print(*arr)\n",
    "    else:\n",
    "        for j in range(i, n):\n",
    "            arr[i], arr[j] = arr[j], arr[i]\n",
    "            generate_permutations(arr, n, i + 1)\n",
    "            arr[i], arr[j] = arr[j], arr[i]\n",
    "\n",
    "digits = [1, 2, 3]\n",
    "\n",
    "print(digits)\n",
    "\n",
    "generate_permutations(digits, len(digits))"
   ]
  },
  {
   "cell_type": "markdown",
   "id": "5288bb89",
   "metadata": {},
   "source": [
    "**34-write a Python program to find all the Combinations in the list with the given condition (Input: test_list = [1,2,3] \n",
    "Output: \n",
    " [1], [1, 2], [1, 2, 3], [1, 3]\n",
    " [2], [2, 3], [3])"
   ]
  },
  {
   "cell_type": "code",
   "execution_count": null,
   "id": "59b89646",
   "metadata": {},
   "outputs": [],
   "source": [
    "x = [1, 2, 3]\n",
    "res = []\n",
    "n = len(x)\n",
    "\n",
    "for i in range(n):\n",
    "    for j in range(i, n):\n",
    "        if x[i:j + 1]:\n",
    "            res.append(x[i:j + 1])\n",
    "print(res)"
   ]
  },
  {
   "cell_type": "markdown",
   "id": "39973705",
   "metadata": {},
   "source": [
    "**35-write a Python program to get all unique combinations of two Lists (List_1 = [\"a\",\"b\"]\n",
    "List_2 = [1,2]\n",
    "Unique_combination = [[('a',1),('b',2)],[('a',2),('b',1)]] )"
   ]
  },
  {
   "cell_type": "code",
   "execution_count": null,
   "id": "8c4ba22b",
   "metadata": {},
   "outputs": [],
   "source": [
    "List_1 = [\"a\",\"b\"]\n",
    "List_2 = [1,2]\n",
    "\n",
    "unique_combination = []\n",
    "\n",
    "for i in range(len(List_1)):\n",
    "    for j in range(len(List_2)):\n",
    "        unique_combination.append([List_1[i],List_2[j]])\n",
    "\n",
    "print(unique_combination)"
   ]
  },
  {
   "cell_type": "markdown",
   "id": "25199af5",
   "metadata": {},
   "source": [
    "**36-Remove all the occurrences of an element from a list in Python (Input : 1 1 2 3 4 5 1 2 1 \n",
    "\n",
    "**Output :(1 2 3 4 5 )"
   ]
  },
  {
   "cell_type": "code",
   "execution_count": null,
   "id": "6dc4c2ba",
   "metadata": {},
   "outputs": [],
   "source": [
    "x = [1, 1, 2, 3, 4, 5, 1, 2, 1]\n",
    "\n",
    "print(list(set(x)))"
   ]
  },
  {
   "cell_type": "markdown",
   "id": "bf1a3c93",
   "metadata": {},
   "source": [
    "**37-write a python program to Replace index elements with elements in Other List (The original list 1 is : [‘Gfg’, ‘is’, ‘best’] The original list 2 is : [0, 1, 2, 1, 0, 0, 0, 2, 1, 1, 2, 0] The lists after index elements replacements is : [‘Gfg’, ‘is’, ‘best’, ‘is’, ‘Gfg’, ‘Gfg’, ‘Gfg’, ‘best’, ‘is’, ‘is’, ‘best’, ‘Gfg’])"
   ]
  },
  {
   "cell_type": "code",
   "execution_count": null,
   "id": "fdd66a71",
   "metadata": {},
   "outputs": [],
   "source": [
    "list_1 = [\"Gfg\", \"is\", \"best\"] \n",
    "list_2 = [0, 1, 2, 1, 0, 0, 0, 2, 1, 1, 2, 0]\n",
    "\n",
    "for i in range(len(list_2)):\n",
    "    if list_2[i] == 0:\n",
    "        list_2[i] = list_1[0]\n",
    "    elif list_2[i] == 1:\n",
    "        list_2[i] = list_1[1]\n",
    "    else:\n",
    "        list_2[i] = list_1[2]\n",
    "\n",
    "print(list_2)"
   ]
  },
  {
   "cell_type": "code",
   "execution_count": null,
   "id": "d4feed7e-1f08-4f50-b0a0-d68105cd790b",
   "metadata": {},
   "outputs": [],
   "source": [
    "list_1 = [\"Gfg\", \"is\", \"best\"] \n",
    "list_2 = [0, 1, 2, 1, 0, 0, 0, 2, 1, 1, 2, 0]\n",
    "\n",
    "for i in range(len(list_2)):\n",
    "    list_2[i] = list_1[list_2[i] % len(list_1)]\n",
    "\n",
    "print(list_2)"
   ]
  },
  {
   "cell_type": "markdown",
   "id": "af0f56e8",
   "metadata": {},
   "source": [
    "**38- write python program to Retain records with N occurrences of K(Input : test_list = [(4, 5, 5, 4), (5, 4, 3)], K = 5, N = 2 \n",
    "Output : [(4, 5, 5, 4)]\n",
    "Input : test_list = [(4, 5, 5, 4), (5, 4, 3)], K = 5, N = 3 \n",
    "Output : [] )"
   ]
  },
  {
   "cell_type": "code",
   "execution_count": null,
   "id": "67b06671",
   "metadata": {},
   "outputs": [],
   "source": [
    "def retain_records(test_list, K, N):\n",
    "    result = []\n",
    "    for tup in test_list:\n",
    "        if tup.count(K) == N:\n",
    "            result.append(tup)\n",
    "    return result\n",
    "\n",
    "test_list_1 = [(4, 5, 5, 4), (5, 4, 3)]\n",
    "test_list_2 = [(4, 5, 5, 4), (5, 4, 3)]\n",
    "K1, N1 = 5, 2\n",
    "K2, N2 = 5, 3\n",
    "\n",
    "print(retain_records(test_list_1, K1, N1))  \n",
    "print(retain_records(test_list_2, K2, N2))  "
   ]
  },
  {
   "cell_type": "markdown",
   "id": "de76f183",
   "metadata": {},
   "source": [
    "**39-write a Python Program to Sort the list according to the column using lambda\n",
    "array = [[1, 3, 3], [2, 1, 2], [3, 2, 1]]\n",
    "Output :\n",
    "Sorted array specific to column 0, [[1, 3, 3], [2, 1, 2], [3, 2, 1]]\n",
    "Sorted array specific to column 1, [[2, 1, 2], [3, 2, 1], [1, 3, 3]]\n",
    "Sorted array specific to column 2, [[3, 2, 1], [2, 1, 2], [1, 3, 3]]"
   ]
  },
  {
   "cell_type": "code",
   "execution_count": null,
   "id": "dc883308",
   "metadata": {},
   "outputs": [],
   "source": [
    "array = [[1, 3, 3], [2, 1, 2], [3, 2, 1]]\n",
    "\n",
    "sorted_array_col0 = sorted(array, key=lambda x: x[0])\n",
    "print(\"Sorted array specific to column 0:\", sorted_array_col0)\n",
    "\n",
    "sorted_array_col1 = sorted(array, key=lambda x: x[1])\n",
    "print(\"Sorted array specific to column 1:\", sorted_array_col1)\n",
    "\n",
    "sorted_array_col2 = sorted(array, key=lambda x: x[2])\n",
    "print(\"Sorted array specific to column 2:\", sorted_array_col2)"
   ]
  },
  {
   "cell_type": "code",
   "execution_count": null,
   "id": "d2e7b31f",
   "metadata": {},
   "outputs": [],
   "source": [
    "**40- write a program to Sort Python Dictionaries by Key or Value\n",
    "Input:\n",
    "{'ravi': 10, 'rajnish': 9, 'sanjeev': 15, 'yash': 2, 'suraj': 32}\n",
    "\n",
    "Output: \n",
    "{'rajnish': 9, 'ravi': 10, 'sanjeev': 15, 'suraj': 32, 'yash': 2}"
   ]
  },
  {
   "cell_type": "code",
   "execution_count": null,
   "id": "a96db4a0",
   "metadata": {},
   "outputs": [],
   "source": [
    "input_dict = {'ravi': 10, 'rajnish': 9, 'sanjeev': 15, 'yash': 2, 'suraj': 32}\n",
    "\n",
    "sorted_by_key = dict(sorted(input_dict.items()))\n",
    "\n",
    "sorted_by_value = dict(sorted(input_dict.items(), key=lambda item: item[1]))\n",
    "\n",
    "print(\"Input Dictionary:\", input_dict)\n",
    "print(\"Sorted by Key:\", sorted_by_key)\n",
    "print(\"Sorted by Value:\", sorted_by_value)"
   ]
  },
  {
   "cell_type": "markdown",
   "id": "ec63c23a",
   "metadata": {},
   "source": [
    "**41-write python program to Remove keys with Values Greater than K ( Including mixed values )\n",
    "nput : test_dict = {‘Gfg’ : 3, ‘is’ : 7, ‘best’ : 10, ‘for’ : 6, ‘geeks’ : ‘CS’},\n",
    "K = 7 \n",
    "Output : {‘Gfg’ : 3, ‘for’ : 6, ‘geeks’ : ‘CS’}"
   ]
  },
  {
   "cell_type": "code",
   "execution_count": null,
   "id": "e39c3a40",
   "metadata": {},
   "outputs": [],
   "source": [
    "test_dict = {\"Gfg\" : 3, \"is\" : 7, \"best\" : 10, \"for\" : 6, \"geeks\": \"CS\"}\n",
    "K = 7\n",
    "\n",
    "filtered_dict = {}\n",
    "\n",
    "for key, value in test_dict.items():\n",
    "    if not (isinstance(value, int) and value > K):\n",
    "        filtered_dict[key] = value\n",
    "\n",
    "print(filtered_dict)"
   ]
  },
  {
   "cell_type": "markdown",
   "id": "f143f0fe",
   "metadata": {},
   "source": [
    "**42-Write a Python program to concatenate the following dictionaries to create a new one\n",
    "\n",
    "Sample Dictionary :\n",
    "dic1={1:10, 2:20}\n",
    "dic2={3:30, 4:40}\n",
    "dic3={5:50,6:60}\n",
    "Expected Result : {1: 10, 2: 20, 3: 30, 4: 40, 5: 50, 6: 60}"
   ]
  },
  {
   "cell_type": "code",
   "execution_count": null,
   "id": "74ffdfea",
   "metadata": {},
   "outputs": [],
   "source": [
    "dic1 = {1: 10, 2: 20}\n",
    "dic2 = {3: 30, 4: 40}\n",
    "dic3 = {5: 50, 6: 60}\n",
    "\n",
    "dic = dic1 | dic2 | dic3\n",
    "\n",
    "print(dic)"
   ]
  },
  {
   "cell_type": "code",
   "execution_count": null,
   "id": "2ff8c378-da8e-4d7b-9b49-ce2818a4a854",
   "metadata": {},
   "outputs": [],
   "source": [
    "dic1 = {1: 10, 2: 20}\n",
    "dic2 = {3: 30, 4: 40}\n",
    "dic3 = {5: 50, 6: 60}\n",
    "\n",
    "dic = {}\n",
    "dic.update(dic1)\n",
    "dic.update(dic2)\n",
    "dic.update(dic3)\n",
    "\n",
    "print(dic)"
   ]
  },
  {
   "cell_type": "markdown",
   "id": "fb04c93c",
   "metadata": {},
   "source": [
    "**43-Write a Python program to iterate over dictionaries using for loops"
   ]
  },
  {
   "cell_type": "code",
   "execution_count": null,
   "id": "6aebc470",
   "metadata": {},
   "outputs": [],
   "source": [
    "my_dict = {'named': \"ahmed\", 'age': 2, 'study': 'cs'}\n",
    "\n",
    "print(\"Iterating over keys:\")\n",
    "for key in my_dict:\n",
    "    print(key)\n",
    "\n",
    "print(\"\\nIterating over values:\")\n",
    "for value in my_dict.values():\n",
    "    print(value)"
   ]
  },
  {
   "cell_type": "markdown",
   "id": "5f491a9d",
   "metadata": {},
   "source": [
    "**44- Write a Python script to merge two Python dictionaries"
   ]
  },
  {
   "cell_type": "code",
   "execution_count": null,
   "id": "b8a14028",
   "metadata": {},
   "outputs": [],
   "source": [
    "dict1 = {'a': 1, 'b': 2}\n",
    "dict2 = {'b': 3, 'c': 4}\n",
    "\n",
    "dict1.update(dict2)\n",
    "\n",
    "print(\"Merged Dictionary:\", dict1)\n"
   ]
  },
  {
   "cell_type": "markdown",
   "id": "216fc72d",
   "metadata": {},
   "source": [
    "**45-Write a Python program to get the maximum and minimum values of a dictionary values"
   ]
  },
  {
   "cell_type": "code",
   "execution_count": null,
   "id": "d6883f5f",
   "metadata": {},
   "outputs": [],
   "source": [
    "my_dict = {'a': 10, 'b': 20, 'c': 30, 'd': 5}\n",
    "\n",
    "max_value = max(my_dict.values())\n",
    "\n",
    "min_value = min(my_dict.values())\n",
    "\n",
    "print(\"Maximum value:\", max_value)\n",
    "print(\"Minimum value:\", min_value)"
   ]
  },
  {
   "cell_type": "markdown",
   "id": "b6a53011",
   "metadata": {},
   "source": [
    "**46- Write a Python program to drop empty items from a given dictionary.\n",
    "Original Dictionary:\n",
    "{'c1': 'Red', 'c2': 'Green', 'c3': None}\n",
    "New Dictionary after dropping empty items:\n",
    "{'c1': 'Red', 'c2': 'Green'}"
   ]
  },
  {
   "cell_type": "code",
   "execution_count": null,
   "id": "b5c6fecf",
   "metadata": {},
   "outputs": [],
   "source": [
    "original_dict = {'c1': 'Red', 'c2': 'Green', 'c3': None}\n",
    "\n",
    "for key in list(original_dict.keys()):\n",
    "    if original_dict[key] is None:\n",
    "        original_dict.pop(key)\n",
    "\n",
    "print(\"Original Dictionary:\")\n",
    "print(original_dict)"
   ]
  },
  {
   "cell_type": "markdown",
   "id": "46d718c7",
   "metadata": {},
   "source": [
    "**47-Write a Python program to create a tuple of numbers and print one item"
   ]
  },
  {
   "cell_type": "code",
   "execution_count": null,
   "id": "13216ff5",
   "metadata": {},
   "outputs": [],
   "source": [
    "numbers_tuple = (1, 2, 3, 4, 5)\n",
    "\n",
    "print(\"One item from the tuple:\", numbers_tuple[2])"
   ]
  },
  {
   "cell_type": "markdown",
   "id": "2be5b56b",
   "metadata": {},
   "source": [
    "**48-Write a Python program to unpack a tuple into several variables"
   ]
  },
  {
   "cell_type": "code",
   "execution_count": null,
   "id": "595f44be",
   "metadata": {},
   "outputs": [],
   "source": [
    "my_tuple = (1, 2, 3)\n",
    "\n",
    "a, b, c = my_tuple\n",
    "\n",
    "print(\"Unpacked variables:\")\n",
    "print(\"a:\", a)\n",
    "print(\"b:\", b)\n",
    "print(\"c:\", c)"
   ]
  },
  {
   "cell_type": "markdown",
   "id": "392388a7",
   "metadata": {},
   "source": [
    "**49-Write a Python program to add an item to a tuple"
   ]
  },
  {
   "cell_type": "code",
   "execution_count": null,
   "id": "54cc092e",
   "metadata": {},
   "outputs": [],
   "source": [
    "original_tuple = (1, 2, 3)\n",
    "\n",
    "new_item = 4\n",
    "\n",
    "new_tuple = original_tuple + (new_item,)\n",
    "\n",
    "print(\"New tuple:\", new_tuple)"
   ]
  },
  {
   "cell_type": "markdown",
   "id": "3e8fd124",
   "metadata": {},
   "source": [
    "**50-Write a Python program to convert a tuple to a string"
   ]
  },
  {
   "cell_type": "code",
   "execution_count": null,
   "id": "92a71ddc",
   "metadata": {},
   "outputs": [],
   "source": [
    "my_tuple = ('Hello', 'World', '!')\n",
    "\n",
    "result_string = ' '.join(str(item) for item in my_tuple)\n",
    "\n",
    "print(result_string)"
   ]
  },
  {
   "cell_type": "markdown",
   "id": "f4f64ef4",
   "metadata": {},
   "source": [
    "**51-Write a Python program to convert a list to a tuple"
   ]
  },
  {
   "cell_type": "code",
   "execution_count": null,
   "id": "210d56d3",
   "metadata": {},
   "outputs": [],
   "source": [
    "my_list = [1, 2, 3, 4, 5]\n",
    "\n",
    "result_tuple = tuple(my_list)\n",
    "\n",
    "print(result_tuple)"
   ]
  },
  {
   "cell_type": "markdown",
   "id": "b1e00ef7",
   "metadata": {},
   "source": [
    "**52-Write a Python program to reverse a tuple"
   ]
  },
  {
   "cell_type": "code",
   "execution_count": null,
   "id": "f45bfdc7",
   "metadata": {},
   "outputs": [],
   "source": [
    "my_tuple = (1, 2, 3, 4, 5)\n",
    "\n",
    "reversed_tuple = my_tuple[::-1]\n",
    "\n",
    "print(\"Reversed tuple:\", reversed_tuple)"
   ]
  },
  {
   "cell_type": "markdown",
   "id": "3cd347d1",
   "metadata": {},
   "source": [
    "**53-Write a Python program to replace the last value of tuples in a list.\n",
    "Sample list: [(10, 20, 40), (40, 50, 60), (70, 80, 90)]\n",
    "Expected Output: [(10, 20, 100), (40, 50, 100), (70, 80, 100)]"
   ]
  },
  {
   "cell_type": "code",
   "execution_count": null,
   "id": "3c4a2a4c",
   "metadata": {},
   "outputs": [],
   "source": [
    "my_list = [(10, 20, 40), (40, 50, 60), (70, 80, 90)]\n",
    "\n",
    "modified_tuple = my_list[2][:2] + (100,) + my_list[2][4:]\n",
    "\n",
    "my_list[2] = modified_tuple\n",
    "\n",
    "print(my_list)"
   ]
  },
  {
   "cell_type": "markdown",
   "id": "76bb7b39",
   "metadata": {},
   "source": [
    "**54-Write a Python program to convert a given string list to a tuple\n",
    "Original string: python 3.0\n",
    "<class 'str'>\n",
    "Convert the said string to a tuple:\n",
    "('p', 'y', 't', 'h', 'o', 'n', '3', '.', '0')"
   ]
  },
  {
   "cell_type": "code",
   "execution_count": null,
   "id": "51951937",
   "metadata": {},
   "outputs": [],
   "source": [
    "original_string = \"python 3.0\"\n",
    "\n",
    "converted_tuple = tuple(original_string)\n",
    "\n",
    "print(\"Converted tuple:\", converted_tuple)"
   ]
  },
  {
   "cell_type": "markdown",
   "id": "5a1d5d97",
   "metadata": {},
   "source": [
    "**55-Write a Python program to calculate the average value of the numbers in a given tuple of tuples"
   ]
  },
  {
   "cell_type": "code",
   "execution_count": null,
   "id": "834e7992",
   "metadata": {},
   "outputs": [],
   "source": [
    "numbers_tuple = ((1, 2, 3), (4, 5, 6), (7, 8, 9))\n",
    "\n",
    "total_sum = 0\n",
    "total_count = 0\n",
    "\n",
    "for inner_tuple in numbers_tuple:\n",
    "    total_sum += sum(inner_tuple)\n",
    "    total_count += len(inner_tuple)\n",
    "\n",
    "average_value = total_sum / total_count\n",
    "\n",
    "print(\"Average value:\", average_value)"
   ]
  },
  {
   "cell_type": "markdown",
   "id": "51edab9c",
   "metadata": {},
   "source": [
    "**56-Write a Python program to add member(s) to a set."
   ]
  },
  {
   "cell_type": "code",
   "execution_count": null,
   "id": "2b65df79",
   "metadata": {},
   "outputs": [],
   "source": [
    "my_set = {1, 2, 3}\n",
    "\n",
    "my_set.add(4)\n",
    "\n",
    "print(\"Set after adding a single member:\", my_set)"
   ]
  },
  {
   "cell_type": "markdown",
   "id": "965590cc",
   "metadata": {},
   "source": [
    "**57-Write a Python program to remove an item from a set if it is present in the set."
   ]
  },
  {
   "cell_type": "code",
   "execution_count": null,
   "id": "866bab28",
   "metadata": {},
   "outputs": [],
   "source": [
    "my_set = {1, 2, 3, 4, 5}\n",
    "\n",
    "item = 3\n",
    "if item in my_set:\n",
    "    my_set.remove(item)\n",
    "    print(f\"Item {item} removed successfully\")\n",
    "else:\n",
    "    print(f\"Item {item} is not present in the set\")\n",
    "\n",
    "print(my_set)"
   ]
  },
  {
   "cell_type": "markdown",
   "id": "2b7cfed1",
   "metadata": {},
   "source": [
    "**58-Write a Python program to create an intersection,union,difference and symmetric difference of sets"
   ]
  },
  {
   "cell_type": "code",
   "execution_count": null,
   "id": "7f94b7fe",
   "metadata": {},
   "outputs": [],
   "source": [
    "set1 = {1, 2, 3, 4, 5}\n",
    "set2 = {4, 5, 6, 7, 8}\n",
    "\n",
    "intersection = set1.intersection(set2)\n",
    "print(\"Intersection of sets:\", intersection)\n",
    "\n",
    "union = set1.union(set2)\n",
    "print(\"Union of sets:\", union)\n",
    "\n",
    "difference = set1.difference(set2)\n",
    "print(\"Difference between sets (set1 - set2):\", difference)\n",
    "\n",
    "symmetric_difference = set1.symmetric_difference(set2)\n",
    "print(\"Symmetric difference between sets:\", symmetric_difference)"
   ]
  },
  {
   "cell_type": "markdown",
   "id": "b94931e2",
   "metadata": {},
   "source": [
    "**59-Write a Python program to find the maximum and minimum values in a set"
   ]
  },
  {
   "cell_type": "code",
   "execution_count": null,
   "id": "203f9600",
   "metadata": {},
   "outputs": [],
   "source": [
    "my_set = {1, 3, 5, 7, 9}\n",
    "\n",
    "maximum_value = max(my_set)\n",
    "print(\"Maximum value in the set:\", maximum_value)\n",
    "\n",
    "minimum_value = min(my_set)\n",
    "print(\"Minimum value in the set:\", minimum_value)"
   ]
  },
  {
   "cell_type": "markdown",
   "id": "255fd554",
   "metadata": {},
   "source": [
    "**60- Write a Python program that finds all pairs of elements in a list whose sum is equal to a given value."
   ]
  },
  {
   "cell_type": "code",
   "execution_count": null,
   "id": "c2d94e1f",
   "metadata": {},
   "outputs": [],
   "source": [
    "def find_pairs_with_sum(lst, target_sum):\n",
    "    pairs = []\n",
    "    n = len(lst)\n",
    "    for i in range(n):\n",
    "        for j in range(i+1, n):\n",
    "            if lst[i] + lst[j] == target_sum:\n",
    "                pairs.append((lst[i], lst[j]))\n",
    "    return pairs\n",
    "\n",
    "lst = [2, 4, 3, 5, 6, -2, 4, 7, 8, 9]\n",
    "target_sum = 7\n",
    "pairs = find_pairs_with_sum(lst, target_sum)\n",
    "\n",
    "print(\"Pairs with sum equal to\", target_sum, \"are:\")\n",
    "for pair in pairs:\n",
    "    print(pair)"
   ]
  }
 ],
 "metadata": {
  "kernelspec": {
   "display_name": "Python 3 (ipykernel)",
   "language": "python",
   "name": "python3"
  },
  "language_info": {
   "codemirror_mode": {
    "name": "ipython",
    "version": 3
   },
   "file_extension": ".py",
   "mimetype": "text/x-python",
   "name": "python",
   "nbconvert_exporter": "python",
   "pygments_lexer": "ipython3",
   "version": "3.11.7"
  }
 },
 "nbformat": 4,
 "nbformat_minor": 5
}
